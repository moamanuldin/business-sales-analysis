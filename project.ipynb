{
 "cells": [
  {
   "cell_type": "markdown",
   "id": "d9cacdca",
   "metadata": {},
   "source": [
    "    Import libraries"
   ]
  },
  {
   "cell_type": "code",
   "execution_count": 1,
   "id": "88ae3eca",
   "metadata": {},
   "outputs": [],
   "source": [
    "import pandas as pd\n",
    "import os\n",
    "from datetime import datetime\n",
    "import datetime\n",
    "from tqdm.notebook import tqdm, trange\n",
    "import time\n",
    "%matplotlib inline"
   ]
  },
  {
   "cell_type": "markdown",
   "id": "a10516a7",
   "metadata": {},
   "source": [
    "    List the lists in the directory"
   ]
  },
  {
   "cell_type": "code",
   "execution_count": 2,
   "id": "382a9a44",
   "metadata": {},
   "outputs": [
    {
     "data": {
      "text/plain": [
       "['Untitled.ipynb',\n",
       " 'df_continued.csv',\n",
       " '2012-2021_continued.xls',\n",
       " 'df_cont',\n",
       " '2012-2021.csv',\n",
       " 'after_cleaning.csv',\n",
       " 'whole_dataset.csv',\n",
       " 'df_cont.csv',\n",
       " 'whole_dataset',\n",
       " '2012-2021.xls',\n",
       " '.ipynb_checkpoints',\n",
       " 'df_final.csv',\n",
       " '2012-2021_new.csv',\n",
       " 'project.ipynb']"
      ]
     },
     "execution_count": 2,
     "metadata": {},
     "output_type": "execute_result"
    }
   ],
   "source": [
    "os.listdir()"
   ]
  },
  {
   "cell_type": "markdown",
   "id": "03ac4816",
   "metadata": {},
   "source": [
    "    Read CSV files"
   ]
  },
  {
   "cell_type": "code",
   "execution_count": 195,
   "id": "484f2424",
   "metadata": {},
   "outputs": [],
   "source": [
    "data1 = pd.read_excel('2012-2021.xls', index_col=False, skiprows=1)"
   ]
  },
  {
   "cell_type": "code",
   "execution_count": 196,
   "id": "70c13856",
   "metadata": {},
   "outputs": [],
   "source": [
    "data2 = pd.read_excel('2012-2021_continued.xls', index_col=False, skiprows=1)"
   ]
  },
  {
   "cell_type": "markdown",
   "id": "2b91d2bf",
   "metadata": {},
   "source": [
    "### Replacing the unnecessary added column\n",
    "    df_cont.drop(['Unnamed: 0'], axis=1, inplace=True)"
   ]
  },
  {
   "cell_type": "code",
   "execution_count": 128,
   "id": "ebeccf3e",
   "metadata": {},
   "outputs": [
    {
     "name": "stdout",
     "output_type": "stream",
     "text": [
      "<class 'pandas.core.frame.DataFrame'>\n",
      "RangeIndex: 65534 entries, 0 to 65533\n",
      "Data columns (total 25 columns):\n",
      " #   Column             Non-Null Count  Dtype  \n",
      "---  ------             --------------  -----  \n",
      " 0   المخزن             65534 non-null  object \n",
      " 1   الرقم              65534 non-null  int64  \n",
      " 2   النوع              65534 non-null  object \n",
      " 3   الكود              26238 non-null  float64\n",
      " 4   العميل             65534 non-null  object \n",
      " 5   التاريخ            65534 non-null  object \n",
      " 6   ع.أصناف            65534 non-null  int64  \n",
      " 7   ع.أصناف الأستبدال  65534 non-null  int64  \n",
      " 8   ق.الفاتورة         65534 non-null  float64\n",
      " 9   ق.بعد الخصم        65534 non-null  float64\n",
      " 10  ق.الصافى           65534 non-null  float64\n",
      " 11  ق.الإستبدالات      65534 non-null  int64  \n",
      " 12  ن.الخصم            65534 non-null  float64\n",
      " 13  ق.الخصم            65534 non-null  float64\n",
      " 14  مبلغ مع المندوب    65534 non-null  int64  \n",
      " 15  تخصص               65524 non-null  object \n",
      " 16  عيادة              0 non-null      float64\n",
      " 17  مصاريف إضافية      65534 non-null  int64  \n",
      " 18  مندوب التوصيل      17693 non-null  object \n",
      " 19  عنوان التوصيل      17545 non-null  object \n",
      " 20  المستخدم           65534 non-null  object \n",
      " 21  ملاحظات            12 non-null     object \n",
      " 22  النوع.1            65534 non-null  object \n",
      " 23  وقت الإقفال        18507 non-null  object \n",
      " 24  إسم الجهاز         65534 non-null  object \n",
      "dtypes: float64(7), int64(6), object(12)\n",
      "memory usage: 12.5+ MB\n"
     ]
    }
   ],
   "source": [
    "data1.info()"
   ]
  },
  {
   "cell_type": "code",
   "execution_count": 100,
   "id": "b6c6c908",
   "metadata": {},
   "outputs": [
    {
     "name": "stdout",
     "output_type": "stream",
     "text": [
      "<class 'pandas.core.frame.DataFrame'>\n",
      "RangeIndex: 31512 entries, 0 to 31511\n",
      "Data columns (total 24 columns):\n",
      " #   Column             Non-Null Count  Dtype  \n",
      "---  ------             --------------  -----  \n",
      " 0   الرقم              31512 non-null  int64  \n",
      " 1   النوع              31512 non-null  object \n",
      " 2   الكود              12047 non-null  float64\n",
      " 3   العميل             31512 non-null  object \n",
      " 4   التاريخ            31512 non-null  object \n",
      " 5   ع.أصناف            31512 non-null  int64  \n",
      " 6   ع.أصناف الأستبدال  31512 non-null  int64  \n",
      " 7   ق.الفاتورة         31512 non-null  float64\n",
      " 8   ق.بعد الخصم        31512 non-null  float64\n",
      " 9   ق.الصافى           31512 non-null  float64\n",
      " 10  ق.الإستبدالات      31512 non-null  int64  \n",
      " 11  ن.الخصم            31512 non-null  float64\n",
      " 12  ق.الخصم            31512 non-null  float64\n",
      " 13  مبلغ مع المندوب    31512 non-null  int64  \n",
      " 14  تخصص               31508 non-null  object \n",
      " 15  عيادة              0 non-null      float64\n",
      " 16  مصاريف إضافية      31512 non-null  float64\n",
      " 17  مندوب التوصيل      10323 non-null  object \n",
      " 18  عنوان التوصيل      10022 non-null  object \n",
      " 19  المستخدم           31512 non-null  object \n",
      " 20  ملاحظات            6 non-null      object \n",
      " 21  النوع.1            31512 non-null  object \n",
      " 22  وقت الإقفال        11284 non-null  object \n",
      " 23  إسم الجهاز         31512 non-null  object \n",
      "dtypes: float64(8), int64(5), object(11)\n",
      "memory usage: 5.8+ MB\n"
     ]
    }
   ],
   "source": [
    "data2.info()"
   ]
  },
  {
   "cell_type": "markdown",
   "id": "d2be0167",
   "metadata": {},
   "source": [
    "    Merge my two dataframes first"
   ]
  },
  {
   "cell_type": "code",
   "execution_count": 197,
   "id": "08a7c38f",
   "metadata": {},
   "outputs": [],
   "source": [
    "df = pd.concat([data1, data2], ignore_index=True)"
   ]
  },
  {
   "cell_type": "markdown",
   "id": "be63c1d1",
   "metadata": {},
   "source": [
    "    Take a peak at the file"
   ]
  },
  {
   "cell_type": "code",
   "execution_count": 198,
   "id": "c784712e",
   "metadata": {
    "scrolled": true
   },
   "outputs": [
    {
     "name": "stdout",
     "output_type": "stream",
     "text": [
      "<class 'pandas.core.frame.DataFrame'>\n",
      "RangeIndex: 97046 entries, 0 to 97045\n",
      "Data columns (total 25 columns):\n",
      " #   Column             Non-Null Count  Dtype  \n",
      "---  ------             --------------  -----  \n",
      " 0   المخزن             65534 non-null  object \n",
      " 1   الرقم              97046 non-null  int64  \n",
      " 2   النوع              97046 non-null  object \n",
      " 3   الكود              38285 non-null  float64\n",
      " 4   العميل             97046 non-null  object \n",
      " 5   التاريخ            97046 non-null  object \n",
      " 6   ع.أصناف            97046 non-null  int64  \n",
      " 7   ع.أصناف الأستبدال  97046 non-null  int64  \n",
      " 8   ق.الفاتورة         97046 non-null  float64\n",
      " 9   ق.بعد الخصم        97046 non-null  float64\n",
      " 10  ق.الصافى           97046 non-null  float64\n",
      " 11  ق.الإستبدالات      97046 non-null  int64  \n",
      " 12  ن.الخصم            97046 non-null  float64\n",
      " 13  ق.الخصم            97046 non-null  float64\n",
      " 14  مبلغ مع المندوب    97046 non-null  int64  \n",
      " 15  تخصص               97032 non-null  object \n",
      " 16  عيادة              0 non-null      float64\n",
      " 17  مصاريف إضافية      97046 non-null  float64\n",
      " 18  مندوب التوصيل      28016 non-null  object \n",
      " 19  عنوان التوصيل      27567 non-null  object \n",
      " 20  المستخدم           97046 non-null  object \n",
      " 21  ملاحظات            18 non-null     object \n",
      " 22  النوع.1            97046 non-null  object \n",
      " 23  وقت الإقفال        29791 non-null  object \n",
      " 24  إسم الجهاز         97046 non-null  object \n",
      "dtypes: float64(8), int64(5), object(12)\n",
      "memory usage: 18.5+ MB\n"
     ]
    }
   ],
   "source": [
    "df.info()"
   ]
  },
  {
   "cell_type": "markdown",
   "id": "90a88fe8",
   "metadata": {},
   "source": [
    "    Clean the data as follows:\n",
    "        1- Drop the unnecessary columns. \n",
    "        2- Create a list with column names.\n",
    "        3- Replace old column names with the new column names.\n",
    "        4- Save the edit to a csv file and read the file to a df_new\n",
    "        5- Drop rows that conatain 'تعاقدات', 'آجل'.\n",
    "        6- Replace the values in the column 'client_name' that have a value of\n",
    "            '.' to the word 'cash'.\n",
    "        7- Replace the null values in the column 'client_code' with 'cash'.\n",
    "        8- Seperate the date from the time into two new columns.\n",
    "        9- Drop the original date column with the mixed date types.\n",
    "        10- Replace the bill_type values from Arabic names to English ones.\n",
    "        11- Save the final prototype to a new file to work on it seperately."
   ]
  },
  {
   "cell_type": "markdown",
   "id": "3620b4c4",
   "metadata": {},
   "source": [
    "    1- First for the drop column stage"
   ]
  },
  {
   "cell_type": "code",
   "execution_count": 199,
   "id": "a44de389",
   "metadata": {},
   "outputs": [],
   "source": [
    "df.drop(['المستخدم', 'مصاريف إضافية', 'عيادة', 'مبلغ مع المندوب', 'ق.الإستبدالات', 'ع.أصناف الأستبدال', 'المخزن', 'تخصص', 'المستخدم','عنوان التوصيل', 'ملاحظات', 'النوع.1', 'وقت الإقفال', 'إسم الجهاز', 'مندوب التوصيل'], axis=1, inplace=True)"
   ]
  },
  {
   "cell_type": "markdown",
   "id": "a3eee388",
   "metadata": {},
   "source": [
    "    2- Now for the new column names."
   ]
  },
  {
   "cell_type": "code",
   "execution_count": 200,
   "id": "45638aaa",
   "metadata": {},
   "outputs": [],
   "source": [
    "old_column_names = df.columns.values.tolist()"
   ]
  },
  {
   "cell_type": "code",
   "execution_count": 201,
   "id": "68318108",
   "metadata": {},
   "outputs": [],
   "source": [
    "new_column_names = ['bill_code', 'bill_type', 'client_code', 'client_name', 'Date', 'items_count', 'bill_val', 'val_aft_disc', 'net_worth', 'discount_%', 'discount_val']"
   ]
  },
  {
   "cell_type": "markdown",
   "id": "5ca1b225",
   "metadata": {},
   "source": [
    "    3- Now swap the old names with the new ones"
   ]
  },
  {
   "cell_type": "code",
   "execution_count": 202,
   "id": "16f16a92",
   "metadata": {},
   "outputs": [],
   "source": [
    "df.columns = [new_column_names]"
   ]
  },
  {
   "cell_type": "markdown",
   "id": "838bada6",
   "metadata": {},
   "source": [
    "    4- Drop rows that conatain 'تعاقدات', 'آجل'."
   ]
  },
  {
   "cell_type": "code",
   "execution_count": 203,
   "id": "52ab786f",
   "metadata": {
    "scrolled": true
   },
   "outputs": [
    {
     "data": {
      "text/html": [
       "<div>\n",
       "<style scoped>\n",
       "    .dataframe tbody tr th:only-of-type {\n",
       "        vertical-align: middle;\n",
       "    }\n",
       "\n",
       "    .dataframe tbody tr th {\n",
       "        vertical-align: top;\n",
       "    }\n",
       "\n",
       "    .dataframe thead tr th {\n",
       "        text-align: left;\n",
       "    }\n",
       "</style>\n",
       "<table border=\"1\" class=\"dataframe\">\n",
       "  <thead>\n",
       "    <tr>\n",
       "      <th></th>\n",
       "      <th>bill_code</th>\n",
       "      <th>bill_type</th>\n",
       "      <th>client_code</th>\n",
       "      <th>client_name</th>\n",
       "      <th>Date</th>\n",
       "      <th>items_count</th>\n",
       "      <th>bill_val</th>\n",
       "      <th>val_aft_disc</th>\n",
       "      <th>net_worth</th>\n",
       "      <th>discount_%</th>\n",
       "      <th>discount_val</th>\n",
       "    </tr>\n",
       "  </thead>\n",
       "  <tbody>\n",
       "    <tr>\n",
       "      <th>0</th>\n",
       "      <td>40726</td>\n",
       "      <td>كاش</td>\n",
       "      <td>NaN</td>\n",
       "      <td>.</td>\n",
       "      <td>2012-01-01 10:09:00</td>\n",
       "      <td>8</td>\n",
       "      <td>420.00</td>\n",
       "      <td>384.10</td>\n",
       "      <td>384.10</td>\n",
       "      <td>0.0</td>\n",
       "      <td>0.0</td>\n",
       "    </tr>\n",
       "    <tr>\n",
       "      <th>1</th>\n",
       "      <td>40727</td>\n",
       "      <td>كاش</td>\n",
       "      <td>NaN</td>\n",
       "      <td>.</td>\n",
       "      <td>2012-01-01 10:35:00</td>\n",
       "      <td>1</td>\n",
       "      <td>14.00</td>\n",
       "      <td>14.00</td>\n",
       "      <td>14.00</td>\n",
       "      <td>0.0</td>\n",
       "      <td>0.0</td>\n",
       "    </tr>\n",
       "    <tr>\n",
       "      <th>2</th>\n",
       "      <td>40728</td>\n",
       "      <td>كاش</td>\n",
       "      <td>NaN</td>\n",
       "      <td>.</td>\n",
       "      <td>2012-01-01 10:41:00</td>\n",
       "      <td>3</td>\n",
       "      <td>16.25</td>\n",
       "      <td>16.25</td>\n",
       "      <td>16.25</td>\n",
       "      <td>0.0</td>\n",
       "      <td>0.0</td>\n",
       "    </tr>\n",
       "    <tr>\n",
       "      <th>3</th>\n",
       "      <td>40729</td>\n",
       "      <td>تعاقدات</td>\n",
       "      <td>2.0</td>\n",
       "      <td>اسيك العيادة الادارة</td>\n",
       "      <td>2012-01-01 11:22:00</td>\n",
       "      <td>3</td>\n",
       "      <td>30.00</td>\n",
       "      <td>27.00</td>\n",
       "      <td>0.00</td>\n",
       "      <td>0.0</td>\n",
       "      <td>0.0</td>\n",
       "    </tr>\n",
       "    <tr>\n",
       "      <th>4</th>\n",
       "      <td>40730</td>\n",
       "      <td>كاش</td>\n",
       "      <td>NaN</td>\n",
       "      <td>.</td>\n",
       "      <td>2012-01-01 11:24:00</td>\n",
       "      <td>2</td>\n",
       "      <td>12.00</td>\n",
       "      <td>12.00</td>\n",
       "      <td>12.00</td>\n",
       "      <td>0.0</td>\n",
       "      <td>0.0</td>\n",
       "    </tr>\n",
       "  </tbody>\n",
       "</table>\n",
       "</div>"
      ],
      "text/plain": [
       "  bill_code bill_type client_code           client_name                 Date  \\\n",
       "0     40726       كاش         NaN                     .  2012-01-01 10:09:00   \n",
       "1     40727       كاش         NaN                     .  2012-01-01 10:35:00   \n",
       "2     40728       كاش         NaN                     .  2012-01-01 10:41:00   \n",
       "3     40729   تعاقدات         2.0  اسيك العيادة الادارة  2012-01-01 11:22:00   \n",
       "4     40730       كاش         NaN                     .  2012-01-01 11:24:00   \n",
       "\n",
       "  items_count bill_val val_aft_disc net_worth discount_% discount_val  \n",
       "0           8   420.00       384.10    384.10        0.0          0.0  \n",
       "1           1    14.00        14.00     14.00        0.0          0.0  \n",
       "2           3    16.25        16.25     16.25        0.0          0.0  \n",
       "3           3    30.00        27.00      0.00        0.0          0.0  \n",
       "4           2    12.00        12.00     12.00        0.0          0.0  "
      ]
     },
     "execution_count": 203,
     "metadata": {},
     "output_type": "execute_result"
    }
   ],
   "source": [
    "df.head()"
   ]
  },
  {
   "cell_type": "markdown",
   "id": "854eab11",
   "metadata": {},
   "source": [
    "    5- Save the edit to a csv file and read the file to a df_new"
   ]
  },
  {
   "cell_type": "code",
   "execution_count": 204,
   "id": "e4758d51",
   "metadata": {},
   "outputs": [],
   "source": [
    "df.to_csv('whole_dataset.csv', index=False)"
   ]
  },
  {
   "cell_type": "code",
   "execution_count": 2,
   "id": "e622f978",
   "metadata": {},
   "outputs": [
    {
     "data": {
      "text/html": [
       "<div>\n",
       "<style scoped>\n",
       "    .dataframe tbody tr th:only-of-type {\n",
       "        vertical-align: middle;\n",
       "    }\n",
       "\n",
       "    .dataframe tbody tr th {\n",
       "        vertical-align: top;\n",
       "    }\n",
       "\n",
       "    .dataframe thead th {\n",
       "        text-align: right;\n",
       "    }\n",
       "</style>\n",
       "<table border=\"1\" class=\"dataframe\">\n",
       "  <thead>\n",
       "    <tr style=\"text-align: right;\">\n",
       "      <th></th>\n",
       "      <th>bill_code</th>\n",
       "      <th>bill_type</th>\n",
       "      <th>client_code</th>\n",
       "      <th>client_name</th>\n",
       "      <th>Date</th>\n",
       "      <th>items_count</th>\n",
       "      <th>bill_val</th>\n",
       "      <th>val_aft_disc</th>\n",
       "      <th>net_worth</th>\n",
       "      <th>discount_%</th>\n",
       "      <th>discount_val</th>\n",
       "    </tr>\n",
       "  </thead>\n",
       "  <tbody>\n",
       "    <tr>\n",
       "      <th>0</th>\n",
       "      <td>40726</td>\n",
       "      <td>كاش</td>\n",
       "      <td>NaN</td>\n",
       "      <td>.</td>\n",
       "      <td>2012-01-01 10:09:00</td>\n",
       "      <td>8</td>\n",
       "      <td>420.00</td>\n",
       "      <td>384.10</td>\n",
       "      <td>384.10</td>\n",
       "      <td>0.0</td>\n",
       "      <td>0.0</td>\n",
       "    </tr>\n",
       "    <tr>\n",
       "      <th>1</th>\n",
       "      <td>40727</td>\n",
       "      <td>كاش</td>\n",
       "      <td>NaN</td>\n",
       "      <td>.</td>\n",
       "      <td>2012-01-01 10:35:00</td>\n",
       "      <td>1</td>\n",
       "      <td>14.00</td>\n",
       "      <td>14.00</td>\n",
       "      <td>14.00</td>\n",
       "      <td>0.0</td>\n",
       "      <td>0.0</td>\n",
       "    </tr>\n",
       "    <tr>\n",
       "      <th>2</th>\n",
       "      <td>40728</td>\n",
       "      <td>كاش</td>\n",
       "      <td>NaN</td>\n",
       "      <td>.</td>\n",
       "      <td>2012-01-01 10:41:00</td>\n",
       "      <td>3</td>\n",
       "      <td>16.25</td>\n",
       "      <td>16.25</td>\n",
       "      <td>16.25</td>\n",
       "      <td>0.0</td>\n",
       "      <td>0.0</td>\n",
       "    </tr>\n",
       "    <tr>\n",
       "      <th>3</th>\n",
       "      <td>40729</td>\n",
       "      <td>تعاقدات</td>\n",
       "      <td>2.0</td>\n",
       "      <td>اسيك العيادة الادارة</td>\n",
       "      <td>2012-01-01 11:22:00</td>\n",
       "      <td>3</td>\n",
       "      <td>30.00</td>\n",
       "      <td>27.00</td>\n",
       "      <td>0.00</td>\n",
       "      <td>0.0</td>\n",
       "      <td>0.0</td>\n",
       "    </tr>\n",
       "    <tr>\n",
       "      <th>4</th>\n",
       "      <td>40730</td>\n",
       "      <td>كاش</td>\n",
       "      <td>NaN</td>\n",
       "      <td>.</td>\n",
       "      <td>2012-01-01 11:24:00</td>\n",
       "      <td>2</td>\n",
       "      <td>12.00</td>\n",
       "      <td>12.00</td>\n",
       "      <td>12.00</td>\n",
       "      <td>0.0</td>\n",
       "      <td>0.0</td>\n",
       "    </tr>\n",
       "  </tbody>\n",
       "</table>\n",
       "</div>"
      ],
      "text/plain": [
       "   bill_code bill_type  client_code           client_name  \\\n",
       "0      40726       كاش          NaN                     .   \n",
       "1      40727       كاش          NaN                     .   \n",
       "2      40728       كاش          NaN                     .   \n",
       "3      40729   تعاقدات          2.0  اسيك العيادة الادارة   \n",
       "4      40730       كاش          NaN                     .   \n",
       "\n",
       "                  Date  items_count  bill_val  val_aft_disc  net_worth  \\\n",
       "0  2012-01-01 10:09:00            8    420.00        384.10     384.10   \n",
       "1  2012-01-01 10:35:00            1     14.00         14.00      14.00   \n",
       "2  2012-01-01 10:41:00            3     16.25         16.25      16.25   \n",
       "3  2012-01-01 11:22:00            3     30.00         27.00       0.00   \n",
       "4  2012-01-01 11:24:00            2     12.00         12.00      12.00   \n",
       "\n",
       "   discount_%  discount_val  \n",
       "0         0.0           0.0  \n",
       "1         0.0           0.0  \n",
       "2         0.0           0.0  \n",
       "3         0.0           0.0  \n",
       "4         0.0           0.0  "
      ]
     },
     "execution_count": 2,
     "metadata": {},
     "output_type": "execute_result"
    }
   ],
   "source": [
    "df_new = pd.read_csv('whole_dataset.csv')\n",
    "df_new.head()"
   ]
  },
  {
   "cell_type": "code",
   "execution_count": 3,
   "id": "7c82f0b8",
   "metadata": {},
   "outputs": [
    {
     "data": {
      "text/plain": [
       "array(['كاش', 'تعاقدات', 'آجل', 'توصيل منزلى'], dtype=object)"
      ]
     },
     "execution_count": 3,
     "metadata": {},
     "output_type": "execute_result"
    }
   ],
   "source": [
    "df_new['bill_type'].unique()"
   ]
  },
  {
   "cell_type": "code",
   "execution_count": 4,
   "id": "a0cf4be9",
   "metadata": {},
   "outputs": [],
   "source": [
    "df_new = df_new[(df_new.bill_type != 'تعاقدات')]\n",
    "df_new = df_new[(df_new.bill_type != 'آجل')]"
   ]
  },
  {
   "cell_type": "code",
   "execution_count": 5,
   "id": "40bff2ab",
   "metadata": {},
   "outputs": [
    {
     "data": {
      "text/plain": [
       "array(['كاش', 'توصيل منزلى'], dtype=object)"
      ]
     },
     "execution_count": 5,
     "metadata": {},
     "output_type": "execute_result"
    }
   ],
   "source": [
    "df_new['bill_type'].unique()"
   ]
  },
  {
   "cell_type": "markdown",
   "id": "2be2bc4f",
   "metadata": {},
   "source": [
    "    6- Replacing '.' with 'cash' in the column 'client_name'\n",
    "        And we use tqdm to display progress."
   ]
  },
  {
   "cell_type": "code",
   "execution_count": 6,
   "id": "5f597659",
   "metadata": {},
   "outputs": [
    {
     "data": {
      "application/vnd.jupyter.widget-view+json": {
       "model_id": "e18b5bc83e5240309eb3205bc448fb8d",
       "version_major": 2,
       "version_minor": 0
      },
      "text/plain": [
       "  0%|          | 0/93549 [00:00<?, ?it/s]"
      ]
     },
     "metadata": {},
     "output_type": "display_data"
    }
   ],
   "source": [
    "for val in tqdm(df_new['client_name']):\n",
    "    if val == '.':\n",
    "        df_new.replace(to_replace = val, value = 'cash', inplace=True)"
   ]
  },
  {
   "cell_type": "markdown",
   "id": "37662388",
   "metadata": {},
   "source": [
    "    7- Fill the null values in the 'client_code' column with 'cash'"
   ]
  },
  {
   "cell_type": "code",
   "execution_count": 7,
   "id": "13225d6c",
   "metadata": {},
   "outputs": [],
   "source": [
    "df_new['client_code'].fillna('cash', inplace=True)"
   ]
  },
  {
   "cell_type": "markdown",
   "id": "4aa3cb5b",
   "metadata": {},
   "source": [
    "    8- Seperate the date from the time into a new column called date and\n",
    "        drop the time cuz it's irrelevant to the data in this case."
   ]
  },
  {
   "cell_type": "code",
   "execution_count": 8,
   "id": "39c6f42a",
   "metadata": {},
   "outputs": [
    {
     "data": {
      "application/vnd.jupyter.widget-view+json": {
       "model_id": "88db3a36fb524b04818a696c8f199474",
       "version_major": 2,
       "version_minor": 0
      },
      "text/plain": [
       "  0%|          | 0/93549 [00:00<?, ?it/s]"
      ]
     },
     "metadata": {},
     "output_type": "display_data"
    }
   ],
   "source": [
    "date_only = []\n",
    "for a in tqdm(df_new['Date']):\n",
    "    if len(a) > 5:\n",
    "        date_only.append(a.split(' ')[0])\n",
    "df_new['date_only'] = date_only"
   ]
  },
  {
   "cell_type": "code",
   "execution_count": 9,
   "id": "82c48e89",
   "metadata": {},
   "outputs": [
    {
     "data": {
      "application/vnd.jupyter.widget-view+json": {
       "model_id": "133d25aac1204019900d79b2b0f96f47",
       "version_major": 2,
       "version_minor": 0
      },
      "text/plain": [
       "  0%|          | 0/93549 [00:00<?, ?it/s]"
      ]
     },
     "metadata": {},
     "output_type": "display_data"
    }
   ],
   "source": [
    "time_only = []\n",
    "for t in tqdm(df_new['Date']):\n",
    "    if len(t) > 12:\n",
    "        time_only.append(t.split(' ')[1:])\n",
    "df_new['time_only'] = time_only"
   ]
  },
  {
   "cell_type": "code",
   "execution_count": 10,
   "id": "53c003ee",
   "metadata": {},
   "outputs": [
    {
     "data": {
      "text/plain": [
       "count          93549\n",
       "unique          2994\n",
       "top       31/05/2012\n",
       "freq              65\n",
       "Name: date_only, dtype: object"
      ]
     },
     "execution_count": 10,
     "metadata": {},
     "output_type": "execute_result"
    }
   ],
   "source": [
    "df_new['date_only'].describe()"
   ]
  },
  {
   "cell_type": "code",
   "execution_count": 11,
   "id": "638c3d1d",
   "metadata": {},
   "outputs": [
    {
     "data": {
      "text/plain": [
       "count              93549\n",
       "unique              3036\n",
       "top       [03:06:00, PM]\n",
       "freq                  85\n",
       "Name: time_only, dtype: object"
      ]
     },
     "execution_count": 11,
     "metadata": {},
     "output_type": "execute_result"
    }
   ],
   "source": [
    "df_new['time_only'].describe()"
   ]
  },
  {
   "cell_type": "markdown",
   "id": "c09d983c",
   "metadata": {},
   "source": [
    "    9- Drop the original date column with the mixed date types."
   ]
  },
  {
   "cell_type": "code",
   "execution_count": 12,
   "id": "524a8a90",
   "metadata": {},
   "outputs": [],
   "source": [
    "df_new.drop(['Date'], axis=1, inplace=True)"
   ]
  },
  {
   "cell_type": "code",
   "execution_count": 13,
   "id": "ba44a1ea",
   "metadata": {},
   "outputs": [
    {
     "name": "stdout",
     "output_type": "stream",
     "text": [
      "<class 'pandas.core.frame.DataFrame'>\n",
      "Int64Index: 93549 entries, 0 to 97045\n",
      "Data columns (total 12 columns):\n",
      " #   Column        Non-Null Count  Dtype  \n",
      "---  ------        --------------  -----  \n",
      " 0   bill_code     93549 non-null  int64  \n",
      " 1   bill_type     93549 non-null  object \n",
      " 2   client_code   93549 non-null  object \n",
      " 3   client_name   93549 non-null  object \n",
      " 4   items_count   93549 non-null  int64  \n",
      " 5   bill_val      93549 non-null  float64\n",
      " 6   val_aft_disc  93549 non-null  float64\n",
      " 7   net_worth     93549 non-null  float64\n",
      " 8   discount_%    93549 non-null  float64\n",
      " 9   discount_val  93549 non-null  float64\n",
      " 10  date_only     93549 non-null  object \n",
      " 11  time_only     93549 non-null  object \n",
      "dtypes: float64(5), int64(2), object(5)\n",
      "memory usage: 9.3+ MB\n"
     ]
    }
   ],
   "source": [
    "df_new.info()"
   ]
  },
  {
   "cell_type": "markdown",
   "id": "9ccd49be",
   "metadata": {},
   "source": [
    "    10- Replace the bill_type values from Arabic names to English ones."
   ]
  },
  {
   "cell_type": "code",
   "execution_count": 14,
   "id": "fb27a213",
   "metadata": {},
   "outputs": [
    {
     "data": {
      "application/vnd.jupyter.widget-view+json": {
       "model_id": "1a9a487a4a454781af56207f658f76a3",
       "version_major": 2,
       "version_minor": 0
      },
      "text/plain": [
       "  0%|          | 0/93549 [00:00<?, ?it/s]"
      ]
     },
     "metadata": {},
     "output_type": "display_data"
    }
   ],
   "source": [
    "for val in tqdm(df_new['bill_type']):\n",
    "    if val == 'كاش':\n",
    "        df_new.replace(to_replace = val, value = 'cash', inplace=True)\n",
    "    elif val == 'توصيل منزلى':\n",
    "        df_new.replace(to_replace= val, value = 'delivery', inplace=True)"
   ]
  },
  {
   "cell_type": "code",
   "execution_count": 15,
   "id": "75db3bf7",
   "metadata": {},
   "outputs": [
    {
     "data": {
      "text/plain": [
       "array(['cash', 'delivery'], dtype=object)"
      ]
     },
     "execution_count": 15,
     "metadata": {},
     "output_type": "execute_result"
    }
   ],
   "source": [
    "df_new['bill_type'].unique()"
   ]
  },
  {
   "cell_type": "markdown",
   "id": "c8ea00c4",
   "metadata": {},
   "source": [
    "    11- Save the final prototype to a new file to work on it seperately."
   ]
  },
  {
   "cell_type": "code",
   "execution_count": 16,
   "id": "9e4f586b",
   "metadata": {},
   "outputs": [],
   "source": [
    "df_new.to_csv('after_cleaning.csv', index=False)"
   ]
  },
  {
   "cell_type": "markdown",
   "id": "73124741",
   "metadata": {},
   "source": [
    "    Now after finishing the cleaning the data we the start asking some questions.\n",
    "    In order to know exactly which questions to ask we have to take a peak at the\n",
    "    data and see what could affect the sales.\n",
    "    So, basicly everything here circles around the sales and their growth."
   ]
  },
  {
   "cell_type": "markdown",
   "id": "79dbb804",
   "metadata": {},
   "source": [
    "    First we load the prototype"
   ]
  },
  {
   "cell_type": "code",
   "execution_count": 39,
   "id": "b4527c6c",
   "metadata": {},
   "outputs": [],
   "source": [
    "df_visualize = pd.read_csv('after_cleaning.csv', index_col=False)"
   ]
  },
  {
   "cell_type": "code",
   "execution_count": 40,
   "id": "4777eb52",
   "metadata": {},
   "outputs": [
    {
     "data": {
      "text/html": [
       "<div>\n",
       "<style scoped>\n",
       "    .dataframe tbody tr th:only-of-type {\n",
       "        vertical-align: middle;\n",
       "    }\n",
       "\n",
       "    .dataframe tbody tr th {\n",
       "        vertical-align: top;\n",
       "    }\n",
       "\n",
       "    .dataframe thead th {\n",
       "        text-align: right;\n",
       "    }\n",
       "</style>\n",
       "<table border=\"1\" class=\"dataframe\">\n",
       "  <thead>\n",
       "    <tr style=\"text-align: right;\">\n",
       "      <th></th>\n",
       "      <th>bill_code</th>\n",
       "      <th>bill_type</th>\n",
       "      <th>client_code</th>\n",
       "      <th>client_name</th>\n",
       "      <th>items_count</th>\n",
       "      <th>bill_val</th>\n",
       "      <th>val_aft_disc</th>\n",
       "      <th>net_worth</th>\n",
       "      <th>discount_%</th>\n",
       "      <th>discount_val</th>\n",
       "      <th>date_only</th>\n",
       "      <th>time_only</th>\n",
       "    </tr>\n",
       "  </thead>\n",
       "  <tbody>\n",
       "    <tr>\n",
       "      <th>0</th>\n",
       "      <td>40726</td>\n",
       "      <td>cash</td>\n",
       "      <td>cash</td>\n",
       "      <td>cash</td>\n",
       "      <td>8</td>\n",
       "      <td>420.00</td>\n",
       "      <td>384.10</td>\n",
       "      <td>384.10</td>\n",
       "      <td>0.0</td>\n",
       "      <td>0.0</td>\n",
       "      <td>2012-01-01</td>\n",
       "      <td>['10:09:00']</td>\n",
       "    </tr>\n",
       "    <tr>\n",
       "      <th>1</th>\n",
       "      <td>40727</td>\n",
       "      <td>cash</td>\n",
       "      <td>cash</td>\n",
       "      <td>cash</td>\n",
       "      <td>1</td>\n",
       "      <td>14.00</td>\n",
       "      <td>14.00</td>\n",
       "      <td>14.00</td>\n",
       "      <td>0.0</td>\n",
       "      <td>0.0</td>\n",
       "      <td>2012-01-01</td>\n",
       "      <td>['10:35:00']</td>\n",
       "    </tr>\n",
       "    <tr>\n",
       "      <th>2</th>\n",
       "      <td>40728</td>\n",
       "      <td>cash</td>\n",
       "      <td>cash</td>\n",
       "      <td>cash</td>\n",
       "      <td>3</td>\n",
       "      <td>16.25</td>\n",
       "      <td>16.25</td>\n",
       "      <td>16.25</td>\n",
       "      <td>0.0</td>\n",
       "      <td>0.0</td>\n",
       "      <td>2012-01-01</td>\n",
       "      <td>['10:41:00']</td>\n",
       "    </tr>\n",
       "    <tr>\n",
       "      <th>3</th>\n",
       "      <td>40730</td>\n",
       "      <td>cash</td>\n",
       "      <td>cash</td>\n",
       "      <td>cash</td>\n",
       "      <td>2</td>\n",
       "      <td>12.00</td>\n",
       "      <td>12.00</td>\n",
       "      <td>12.00</td>\n",
       "      <td>0.0</td>\n",
       "      <td>0.0</td>\n",
       "      <td>2012-01-01</td>\n",
       "      <td>['11:24:00']</td>\n",
       "    </tr>\n",
       "    <tr>\n",
       "      <th>4</th>\n",
       "      <td>40731</td>\n",
       "      <td>cash</td>\n",
       "      <td>cash</td>\n",
       "      <td>cash</td>\n",
       "      <td>1</td>\n",
       "      <td>1.25</td>\n",
       "      <td>1.25</td>\n",
       "      <td>1.25</td>\n",
       "      <td>0.0</td>\n",
       "      <td>0.0</td>\n",
       "      <td>2012-01-01</td>\n",
       "      <td>['11:25:00']</td>\n",
       "    </tr>\n",
       "  </tbody>\n",
       "</table>\n",
       "</div>"
      ],
      "text/plain": [
       "   bill_code bill_type client_code client_name  items_count  bill_val  \\\n",
       "0      40726      cash        cash        cash            8    420.00   \n",
       "1      40727      cash        cash        cash            1     14.00   \n",
       "2      40728      cash        cash        cash            3     16.25   \n",
       "3      40730      cash        cash        cash            2     12.00   \n",
       "4      40731      cash        cash        cash            1      1.25   \n",
       "\n",
       "   val_aft_disc  net_worth  discount_%  discount_val   date_only     time_only  \n",
       "0        384.10     384.10         0.0           0.0  2012-01-01  ['10:09:00']  \n",
       "1         14.00      14.00         0.0           0.0  2012-01-01  ['10:35:00']  \n",
       "2         16.25      16.25         0.0           0.0  2012-01-01  ['10:41:00']  \n",
       "3         12.00      12.00         0.0           0.0  2012-01-01  ['11:24:00']  \n",
       "4          1.25       1.25         0.0           0.0  2012-01-01  ['11:25:00']  "
      ]
     },
     "execution_count": 40,
     "metadata": {},
     "output_type": "execute_result"
    }
   ],
   "source": [
    "df_visualize.head()"
   ]
  },
  {
   "cell_type": "markdown",
   "id": "f34e91b3",
   "metadata": {},
   "source": [
    "### Import important libraries"
   ]
  },
  {
   "cell_type": "code",
   "execution_count": 23,
   "id": "2fe6cf04",
   "metadata": {},
   "outputs": [],
   "source": [
    "import matplotlib.pyplot as plt"
   ]
  },
  {
   "cell_type": "markdown",
   "id": "01211460",
   "metadata": {},
   "source": [
    "    Now we write down some questions that we think might be important:\n",
    "        1- Which is more dominant (cash, delivery) in the bill_type based on:\n",
    "            * Total count.\n",
    "            * Total revenue."
   ]
  },
  {
   "cell_type": "code",
   "execution_count": 41,
   "id": "1d53e8dd",
   "metadata": {},
   "outputs": [
    {
     "data": {
      "image/png": "[encoded data removed]",
      "text/plain": [
       "<Figure size 432x288 with 1 Axes>"
      ]
     },
     "metadata": {},
     "output_type": "display_data"
    }
   ],
   "source": [
    "df_visualize['bill_type'].value_counts().plot(kind='pie', autopct='%1.1f%%');"
   ]
  },
  {
   "cell_type": "markdown",
   "id": "816c4f98",
   "metadata": {},
   "source": [
    "    Comment:\n",
    "       Seems like the 'cash' type overtakes the 'delivery' type by a ratio of 2:1"
   ]
  },
  {
   "cell_type": "markdown",
   "id": "eca01407",
   "metadata": {},
   "source": [
    "    2- Revenue based on the bill type (to figure out what makes the bussiness the\n",
    "        most amount of money."
   ]
  },
  {
   "cell_type": "code",
   "execution_count": 42,
   "id": "83048b9b",
   "metadata": {},
   "outputs": [],
   "source": [
    "df_grouped_billtype = df_visualize.groupby('bill_type', axis=0).sum()"
   ]
  },
  {
   "cell_type": "code",
   "execution_count": 21,
   "id": "49bd31c9",
   "metadata": {},
   "outputs": [
    {
     "data": {
      "text/html": [
       "<div>\n",
       "<style scoped>\n",
       "    .dataframe tbody tr th:only-of-type {\n",
       "        vertical-align: middle;\n",
       "    }\n",
       "\n",
       "    .dataframe tbody tr th {\n",
       "        vertical-align: top;\n",
       "    }\n",
       "\n",
       "    .dataframe thead th {\n",
       "        text-align: right;\n",
       "    }\n",
       "</style>\n",
       "<table border=\"1\" class=\"dataframe\">\n",
       "  <thead>\n",
       "    <tr style=\"text-align: right;\">\n",
       "      <th></th>\n",
       "      <th>bill_code</th>\n",
       "      <th>items_count</th>\n",
       "      <th>bill_val</th>\n",
       "      <th>val_aft_disc</th>\n",
       "      <th>net_worth</th>\n",
       "      <th>discount_%</th>\n",
       "      <th>discount_val</th>\n",
       "    </tr>\n",
       "    <tr>\n",
       "      <th>bill_type</th>\n",
       "      <th></th>\n",
       "      <th></th>\n",
       "      <th></th>\n",
       "      <th></th>\n",
       "      <th></th>\n",
       "      <th></th>\n",
       "      <th></th>\n",
       "    </tr>\n",
       "  </thead>\n",
       "  <tbody>\n",
       "    <tr>\n",
       "      <th>cash</th>\n",
       "      <td>6016863698</td>\n",
       "      <td>105687</td>\n",
       "      <td>1435769.32</td>\n",
       "      <td>1409012.16</td>\n",
       "      <td>1408426.82</td>\n",
       "      <td>11270.3</td>\n",
       "      <td>486.40</td>\n",
       "    </tr>\n",
       "    <tr>\n",
       "      <th>delivery</th>\n",
       "      <td>2663038371</td>\n",
       "      <td>73677</td>\n",
       "      <td>2201263.71</td>\n",
       "      <td>2115842.23</td>\n",
       "      <td>2111327.82</td>\n",
       "      <td>868.4</td>\n",
       "      <td>211.11</td>\n",
       "    </tr>\n",
       "  </tbody>\n",
       "</table>\n",
       "</div>"
      ],
      "text/plain": [
       "            bill_code  items_count    bill_val  val_aft_disc   net_worth  \\\n",
       "bill_type                                                                  \n",
       "cash       6016863698       105687  1435769.32    1409012.16  1408426.82   \n",
       "delivery   2663038371        73677  2201263.71    2115842.23  2111327.82   \n",
       "\n",
       "           discount_%  discount_val  \n",
       "bill_type                            \n",
       "cash          11270.3        486.40  \n",
       "delivery        868.4        211.11  "
      ]
     },
     "execution_count": 21,
     "metadata": {},
     "output_type": "execute_result"
    }
   ],
   "source": [
    "df_grouped_billtype"
   ]
  },
  {
   "cell_type": "code",
   "execution_count": 24,
   "id": "f9f67f82",
   "metadata": {},
   "outputs": [
    {
     "data": {
      "image/png": "[encoded data removed]",
      "text/plain": [
       "<Figure size 360x432 with 1 Axes>"
      ]
     },
     "metadata": {},
     "output_type": "display_data"
    }
   ],
   "source": [
    "df_grouped_billtype['net_worth'].plot(kind='pie',\n",
    "                            figsize=(5,6),\n",
    "                            autopct='%1.1f%%',\n",
    "                            startangle=90,\n",
    "                            labels= ['Cash', 'Delivery'],\n",
    "                            colors = ['lightskyblue', 'gold'],\n",
    "                            shadow=True)\n",
    "plt.title('Revenue base on the bill type')\n",
    "plt.axis('equal')\n",
    "plt.legend(labels=df_grouped_billtype.index, loc='upper left') \n",
    "plt.show()"
   ]
  },
  {
   "cell_type": "markdown",
   "id": "d6da7993",
   "metadata": {},
   "source": [
    "### Interesting finding\n",
    "    Despite the fact that the cash bills are as twice as the delivery ones, the \n",
    "    revenue is only 41% of the total revenue."
   ]
  },
  {
   "cell_type": "markdown",
   "id": "bcb008bc",
   "metadata": {},
   "source": [
    "    3- Who is the business's biggest client over the years?"
   ]
  },
  {
   "cell_type": "code",
   "execution_count": 43,
   "id": "8e40b86f",
   "metadata": {},
   "outputs": [],
   "source": [
    "df_grouped_clientcode = df_visualize.groupby('client_code', axis=0).sum()"
   ]
  },
  {
   "cell_type": "code",
   "execution_count": 26,
   "id": "93fcb2a0",
   "metadata": {},
   "outputs": [],
   "source": [
    "df_grouped_clientcode = df_grouped_clientcode['net_worth']"
   ]
  },
  {
   "cell_type": "code",
   "execution_count": 27,
   "id": "89627817",
   "metadata": {},
   "outputs": [],
   "source": [
    "df_grouped_clientcode = df_grouped_clientcode.sort_values(ascending=False)"
   ]
  },
  {
   "cell_type": "code",
   "execution_count": 28,
   "id": "82bbf6af",
   "metadata": {},
   "outputs": [],
   "source": [
    "df_grouped_clientcode.drop(['cash'], axis=0, inplace=True)"
   ]
  },
  {
   "cell_type": "code",
   "execution_count": 29,
   "id": "63b8ad8c",
   "metadata": {},
   "outputs": [],
   "source": [
    "df_name_and_code = df_new.groupby('client_code', axis=0)"
   ]
  },
  {
   "cell_type": "code",
   "execution_count": 44,
   "id": "1de3b832",
   "metadata": {},
   "outputs": [],
   "source": [
    "df_name_and_code = df_visualize[['client_code', 'client_name']]"
   ]
  },
  {
   "cell_type": "code",
   "execution_count": 31,
   "id": "748d4367",
   "metadata": {},
   "outputs": [],
   "source": [
    "df_name_and_code.set_index('client_code', inplace=True)"
   ]
  },
  {
   "cell_type": "code",
   "execution_count": 32,
   "id": "9a540838",
   "metadata": {},
   "outputs": [
    {
     "name": "stderr",
     "output_type": "stream",
     "text": [
      "/home/moaman/anaconda3/lib/python3.9/site-packages/pandas/core/frame.py:4906: SettingWithCopyWarning: \n",
      "A value is trying to be set on a copy of a slice from a DataFrame\n",
      "\n",
      "See the caveats in the documentation: https://pandas.pydata.org/pandas-docs/stable/user_guide/indexing.html#returning-a-view-versus-a-copy\n",
      "  return super().drop(\n"
     ]
    }
   ],
   "source": [
    "df_name_and_code.drop(labels='cash', axis=0, inplace=True)"
   ]
  },
  {
   "cell_type": "code",
   "execution_count": 33,
   "id": "9fe2a548",
   "metadata": {},
   "outputs": [
    {
     "data": {
      "image/png": "[encoded data removed]",
      "text/plain": [
       "<Figure size 720x576 with 1 Axes>"
      ]
     },
     "metadata": {},
     "output_type": "display_data"
    }
   ],
   "source": [
    "df_grouped_clientcode.head(20).plot(kind='pie',\n",
    "                                    autopct='%1.1f%%',\n",
    "                                    startangle=90,\n",
    "                                    figsize=(10,8))\n",
    "plt.title('Top 10 customers')\n",
    "plt.axis('equal')\n",
    "plt.show()"
   ]
  },
  {
   "cell_type": "code",
   "execution_count": 24,
   "id": "5850f0d0",
   "metadata": {
    "scrolled": true
   },
   "outputs": [
    {
     "name": "stdout",
     "output_type": "stream",
     "text": [
      "Enter the client code: 108\n",
      "The client name is:\n",
      " مصطفي حافظ\n"
     ]
    }
   ],
   "source": [
    "code = str(input('Enter the client code: '))\n",
    "name = df_name_and_code.loc[[code + '.0']]\n",
    "\n",
    "print('The client name is:\\n {}'.format(name['client_name'][0]))"
   ]
  },
  {
   "cell_type": "markdown",
   "id": "2747cc42",
   "metadata": {},
   "source": [
    "# Now for the \"Loyalty program\".\n",
    "    In order to reward the clients who stayed with business the longest we\n",
    "    create a loyalty program as a \"In store credit\" that they can use to buy\n",
    "    anything inside the store with a max discount of 10% deducted from the points value."
   ]
  },
  {
   "cell_type": "markdown",
   "id": "969e9290",
   "metadata": {},
   "source": [
    "### Tips on how to do it\n",
    "    We can do this by grouping by client_code to a new dataframe and\n",
    "    returning the sum of the values for the networth and discount value"
   ]
  },
  {
   "cell_type": "code",
   "execution_count": 137,
   "id": "596b8923",
   "metadata": {},
   "outputs": [],
   "source": [
    "df_loyalty_pro = df_visualize[['client_code', 'client_name', 'bill_val', 'val_aft_disc', 'discount_val']]"
   ]
  },
  {
   "cell_type": "code",
   "execution_count": 138,
   "id": "137883f4",
   "metadata": {},
   "outputs": [
    {
     "data": {
      "text/html": [
       "<div>\n",
       "<style scoped>\n",
       "    .dataframe tbody tr th:only-of-type {\n",
       "        vertical-align: middle;\n",
       "    }\n",
       "\n",
       "    .dataframe tbody tr th {\n",
       "        vertical-align: top;\n",
       "    }\n",
       "\n",
       "    .dataframe thead th {\n",
       "        text-align: right;\n",
       "    }\n",
       "</style>\n",
       "<table border=\"1\" class=\"dataframe\">\n",
       "  <thead>\n",
       "    <tr style=\"text-align: right;\">\n",
       "      <th></th>\n",
       "      <th>client_code</th>\n",
       "      <th>client_name</th>\n",
       "      <th>bill_val</th>\n",
       "      <th>val_aft_disc</th>\n",
       "      <th>discount_val</th>\n",
       "    </tr>\n",
       "  </thead>\n",
       "  <tbody>\n",
       "    <tr>\n",
       "      <th>0</th>\n",
       "      <td>cash</td>\n",
       "      <td>cash</td>\n",
       "      <td>420.00</td>\n",
       "      <td>384.10</td>\n",
       "      <td>0.0</td>\n",
       "    </tr>\n",
       "    <tr>\n",
       "      <th>1</th>\n",
       "      <td>cash</td>\n",
       "      <td>cash</td>\n",
       "      <td>14.00</td>\n",
       "      <td>14.00</td>\n",
       "      <td>0.0</td>\n",
       "    </tr>\n",
       "    <tr>\n",
       "      <th>2</th>\n",
       "      <td>cash</td>\n",
       "      <td>cash</td>\n",
       "      <td>16.25</td>\n",
       "      <td>16.25</td>\n",
       "      <td>0.0</td>\n",
       "    </tr>\n",
       "    <tr>\n",
       "      <th>3</th>\n",
       "      <td>cash</td>\n",
       "      <td>cash</td>\n",
       "      <td>12.00</td>\n",
       "      <td>12.00</td>\n",
       "      <td>0.0</td>\n",
       "    </tr>\n",
       "    <tr>\n",
       "      <th>4</th>\n",
       "      <td>cash</td>\n",
       "      <td>cash</td>\n",
       "      <td>1.25</td>\n",
       "      <td>1.25</td>\n",
       "      <td>0.0</td>\n",
       "    </tr>\n",
       "  </tbody>\n",
       "</table>\n",
       "</div>"
      ],
      "text/plain": [
       "  client_code client_name  bill_val  val_aft_disc  discount_val\n",
       "0        cash        cash    420.00        384.10           0.0\n",
       "1        cash        cash     14.00         14.00           0.0\n",
       "2        cash        cash     16.25         16.25           0.0\n",
       "3        cash        cash     12.00         12.00           0.0\n",
       "4        cash        cash      1.25          1.25           0.0"
      ]
     },
     "execution_count": 138,
     "metadata": {},
     "output_type": "execute_result"
    }
   ],
   "source": [
    "df_loyalty_pro.head()"
   ]
  },
  {
   "cell_type": "code",
   "execution_count": 139,
   "id": "d4ae54eb",
   "metadata": {},
   "outputs": [
    {
     "name": "stderr",
     "output_type": "stream",
     "text": [
      "/tmp/ipykernel_6144/67391346.py:1: SettingWithCopyWarning: \n",
      "A value is trying to be set on a copy of a slice from a DataFrame.\n",
      "Try using .loc[row_indexer,col_indexer] = value instead\n",
      "\n",
      "See the caveats in the documentation: https://pandas.pydata.org/pandas-docs/stable/user_guide/indexing.html#returning-a-view-versus-a-copy\n",
      "  df_loyalty_pro['discount_val'] = df_loyalty_pro['bill_val'] - df_loyalty_pro['val_aft_disc']\n"
     ]
    }
   ],
   "source": [
    "df_loyalty_pro['discount_val'] = df_loyalty_pro['bill_val'] - df_loyalty_pro['val_aft_disc']"
   ]
  },
  {
   "cell_type": "code",
   "execution_count": 140,
   "id": "29bfe4e3",
   "metadata": {},
   "outputs": [],
   "source": [
    "df_loyalty_pro.set_index('client_code', inplace=True)"
   ]
  },
  {
   "cell_type": "code",
   "execution_count": 141,
   "id": "27af92d9",
   "metadata": {},
   "outputs": [],
   "source": [
    "df_loyal = df_loyalty_pro.groupby('client_code', axis=0).sum()"
   ]
  },
  {
   "cell_type": "code",
   "execution_count": 143,
   "id": "4bdc938a",
   "metadata": {},
   "outputs": [],
   "source": [
    "df_loyal.drop(labels='cash', axis=0, inplace=True)"
   ]
  },
  {
   "cell_type": "code",
   "execution_count": 144,
   "id": "a7122e5f",
   "metadata": {},
   "outputs": [],
   "source": [
    "df_loyal.sort_values(by='bill_val', axis=0, ascending=False, inplace=True)"
   ]
  },
  {
   "cell_type": "code",
   "execution_count": 176,
   "id": "b6ecdb17",
   "metadata": {},
   "outputs": [
    {
     "ename": "ValueError",
     "evalue": "The truth value of a Series is ambiguous. Use a.empty, a.bool(), a.item(), a.any() or a.all().",
     "output_type": "error",
     "traceback": [
      "\u001b[0;31m---------------------------------------------------------------------------\u001b[0m",
      "\u001b[0;31mValueError\u001b[0m                                Traceback (most recent call last)",
      "\u001b[0;32m/tmp/ipykernel_6144/2367127911.py\u001b[0m in \u001b[0;36m<module>\u001b[0;34m\u001b[0m\n\u001b[1;32m      1\u001b[0m \u001b[0mdf_loyal_least_discount\u001b[0m \u001b[0;34m=\u001b[0m \u001b[0;34m[\u001b[0m\u001b[0;34m]\u001b[0m\u001b[0;34m\u001b[0m\u001b[0;34m\u001b[0m\u001b[0m\n\u001b[0;32m----> 2\u001b[0;31m \u001b[0;32mfor\u001b[0m \u001b[0ma\u001b[0m \u001b[0;32min\u001b[0m \u001b[0mdf_loyal\u001b[0m\u001b[0;34m[\u001b[0m\u001b[0;34m'discount_val'\u001b[0m\u001b[0;34m]\u001b[0m \u001b[0;32mand\u001b[0m \u001b[0mb\u001b[0m \u001b[0;32min\u001b[0m \u001b[0mdf_loyal\u001b[0m\u001b[0;34m[\u001b[0m\u001b[0;34m'bill_val'\u001b[0m\u001b[0;34m]\u001b[0m\u001b[0;34m:\u001b[0m\u001b[0;34m\u001b[0m\u001b[0;34m\u001b[0m\u001b[0m\n\u001b[0m\u001b[1;32m      3\u001b[0m     \u001b[0;32mif\u001b[0m \u001b[0ma\u001b[0m \u001b[0;34m/\u001b[0m \u001b[0mb\u001b[0m \u001b[0;34m*\u001b[0m \u001b[0;36m100\u001b[0m \u001b[0;34m>\u001b[0m \u001b[0;36m1\u001b[0m\u001b[0;34m:\u001b[0m\u001b[0;34m\u001b[0m\u001b[0;34m\u001b[0m\u001b[0m\n\u001b[1;32m      4\u001b[0m         \u001b[0mdf_loyal_least_discount\u001b[0m\u001b[0;34m.\u001b[0m\u001b[0mappend\u001b[0m\u001b[0;34m(\u001b[0m\u001b[0ma\u001b[0m\u001b[0;34m)\u001b[0m\u001b[0;34m\u001b[0m\u001b[0;34m\u001b[0m\u001b[0m\n",
      "\u001b[0;32m~/anaconda3/lib/python3.9/site-packages/pandas/core/generic.py\u001b[0m in \u001b[0;36m__nonzero__\u001b[0;34m(self)\u001b[0m\n\u001b[1;32m   1535\u001b[0m     \u001b[0;34m@\u001b[0m\u001b[0mfinal\u001b[0m\u001b[0;34m\u001b[0m\u001b[0;34m\u001b[0m\u001b[0m\n\u001b[1;32m   1536\u001b[0m     \u001b[0;32mdef\u001b[0m \u001b[0m__nonzero__\u001b[0m\u001b[0;34m(\u001b[0m\u001b[0mself\u001b[0m\u001b[0;34m)\u001b[0m\u001b[0;34m:\u001b[0m\u001b[0;34m\u001b[0m\u001b[0;34m\u001b[0m\u001b[0m\n\u001b[0;32m-> 1537\u001b[0;31m         raise ValueError(\n\u001b[0m\u001b[1;32m   1538\u001b[0m             \u001b[0;34mf\"The truth value of a {type(self).__name__} is ambiguous. \"\u001b[0m\u001b[0;34m\u001b[0m\u001b[0;34m\u001b[0m\u001b[0m\n\u001b[1;32m   1539\u001b[0m             \u001b[0;34m\"Use a.empty, a.bool(), a.item(), a.any() or a.all().\"\u001b[0m\u001b[0;34m\u001b[0m\u001b[0;34m\u001b[0m\u001b[0m\n",
      "\u001b[0;31mValueError\u001b[0m: The truth value of a Series is ambiguous. Use a.empty, a.bool(), a.item(), a.any() or a.all()."
     ]
    }
   ],
   "source": [
    "df_loyal_least_discount = []\n",
    "for a in df_loyal['discount_val'] and b in df_loyal['bill_val']:\n",
    "    if a / b * 100 > 1:\n",
    "        df_loyal_least_discount.append(a)"
   ]
  },
  {
   "cell_type": "code",
   "execution_count": 160,
   "id": "abc14c61",
   "metadata": {},
   "outputs": [
    {
     "data": {
      "text/plain": [
       "bill_val        37367.76\n",
       "val_aft_disc    37360.35\n",
       "discount_val        7.41\n",
       "Name: 1272.0, dtype: float64"
      ]
     },
     "execution_count": 160,
     "metadata": {},
     "output_type": "execute_result"
    }
   ],
   "source": [
    "df_loyal.loc['1272.0']"
   ]
  },
  {
   "cell_type": "code",
   "execution_count": 152,
   "id": "eb6c52ad",
   "metadata": {
    "scrolled": false
   },
   "outputs": [
    {
     "name": "stdout",
     "output_type": "stream",
     "text": [
      "Enter the client code: 1272\n",
      "The client name is:\n",
      " د فاضل قهمى\n"
     ]
    }
   ],
   "source": [
    "code = str(input('Enter the client code: '))\n",
    "# str(input('Enter the client code: '))\n",
    "name = df_loyalty_pro.loc[[code + '.0']]\n",
    "print('The client name is:\\n {}'.format(name['client_name'][0]))"
   ]
  }
 ],
 "metadata": {
  "kernelspec": {
   "display_name": "Python 3 (ipykernel)",
   "language": "python",
   "name": "python3"
  },
  "language_info": {
   "codemirror_mode": {
    "name": "ipython",
    "version": 3
   },
   "file_extension": ".py",
   "mimetype": "text/x-python",
   "name": "python",
   "nbconvert_exporter": "python",
   "pygments_lexer": "ipython3",
   "version": "3.9.7"
  }
 },
 "nbformat": 4,
 "nbformat_minor": 5
}
